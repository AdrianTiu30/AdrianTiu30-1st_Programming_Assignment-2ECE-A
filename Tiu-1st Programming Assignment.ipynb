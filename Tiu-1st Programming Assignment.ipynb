{
 "cells": [
  {
   "cell_type": "code",
   "execution_count": 26,
   "id": "5bde7a30-1247-4f83-b2b6-0a3a5fe37195",
   "metadata": {},
   "outputs": [
    {
     "name": "stdin",
     "output_type": "stream",
     "text": [
      "Enter a word:  adsaflksdjf;\n"
     ]
    },
    {
     "name": "stdout",
     "output_type": "stream",
     "text": [
      ";aaddffjklss\n"
     ]
    }
   ],
   "source": [
    "def alphabet(word):\n",
    "    return ''.join(sorted(word))\n",
    "\n",
    "word = input(\"Enter a word: \")\n",
    "print(alphabet(word))"
   ]
  },
  {
   "cell_type": "code",
   "execution_count": 27,
   "id": "c7caa53d-a4b4-48e2-ab4b-9899228a5a05",
   "metadata": {},
   "outputs": [
    {
     "name": "stdin",
     "output_type": "stream",
     "text": [
      "Write a sentence with (smile, sad, mad, grin):  I am mad and sad\n"
     ]
    },
    {
     "name": "stdout",
     "output_type": "stream",
     "text": [
      "emotified sentence: I am >:( and :(\n"
     ]
    }
   ],
   "source": [
    "def emoticon_map(sentence):\n",
    "    emoticons = {\n",
    "    \"smile\": \":)\",\n",
    "    \"sad\": \":(\",\n",
    "    \"mad\": \">:(\",\n",
    "    \"grin\": \":D\"\n",
    "    }\n",
    "\n",
    "    words = sentence.split()\n",
    "    result = [emoticons.get(word.lower(), word) for word in words]\n",
    "    return \" \".join(result)\n",
    "\n",
    "sentence = input(\"Write a sentence with (smile, sad, mad, grin): \")\n",
    "print(\"emotified sentence:\", emoticon_map(sentence))"
   ]
  },
  {
   "cell_type": "code",
   "execution_count": 31,
   "id": "d489383f-78c8-451a-92c3-cc8d59aadbce",
   "metadata": {},
   "outputs": [
    {
     "name": "stdout",
     "output_type": "stream",
     "text": [
      "First: 1\n",
      "Middle: [2, 3, 4, 5, 7, 8, 124, 235, 6234]\n",
      "Last: 6\n"
     ]
    }
   ],
   "source": [
    "def unpack_list(lst):\n",
    "    first, *middle, last = lst\n",
    "    return first, middle, last\n",
    "\n",
    "    user_input = input(\"Create a list: \")\n",
    "    lst = [int(x) for x in user_input.replace(',', ' ').split()]\n",
    "\n",
    "first, middle, last = unpack_list(lst)\n",
    "\n",
    "print(\"First:\", first)\n",
    "print(\"Middle:\", middle)\n",
    "print(\"Last:\", last)"
   ]
  },
  {
   "cell_type": "code",
   "execution_count": null,
   "id": "485737e2-f470-4ebf-ab80-3a6b41b892a5",
   "metadata": {},
   "outputs": [],
   "source": [
    "def unpack_list(lst):\n",
    "    first, *middle, last = lst\n",
    "    return first, middle, last\n",
    "\n",
    "    user_input = input(\"Create a list: \")\n",
    "    lst = [lst(x) for x in user_input.replace(',', ' ').split()]\n",
    "\n",
    "first, middle, last = unpack_list(lst)\n",
    "\n",
    "print(\"First:\", first)\n",
    "print(\"M:\", second)\n",
    "print(\"Last:\", last)"
   ]
  }
 ],
 "metadata": {
  "kernelspec": {
   "display_name": "Python [conda env:base] *",
   "language": "python",
   "name": "conda-base-py"
  },
  "language_info": {
   "codemirror_mode": {
    "name": "ipython",
    "version": 3
   },
   "file_extension": ".py",
   "mimetype": "text/x-python",
   "name": "python",
   "nbconvert_exporter": "python",
   "pygments_lexer": "ipython3",
   "version": "3.13.5"
  }
 },
 "nbformat": 4,
 "nbformat_minor": 5
}

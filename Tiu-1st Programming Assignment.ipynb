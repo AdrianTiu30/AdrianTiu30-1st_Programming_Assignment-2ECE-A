{
 "cells": [
  {
   "cell_type": "code",
   "execution_count": 33,
   "id": "a7139c89-6d2f-40e6-85fc-f5854ddcd430",
   "metadata": {},
   "outputs": [
    {
     "name": "stdout",
     "output_type": "stream",
     "text": [
      "Aadinr\n"
     ]
    }
   ],
   "source": [
    "word = \"Adrian\"\n",
    "\n",
    "def alphabet(word):\n",
    "    return ''.join(sorted(word))\n",
    "\n",
    "print(alphabet(word))"
   ]
  },
  {
   "cell_type": "code",
   "execution_count": 61,
   "id": "20f68f0a-229a-42b1-a960-c9f7c118c8ba",
   "metadata": {},
   "outputs": [
    {
     "name": "stdout",
     "output_type": "stream",
     "text": [
      "I am >:(\n",
      "Make me :)\n"
     ]
    }
   ],
   "source": [
    "def emoticons_map(word):\n",
    "    # word = text.lower()\n",
    "\n",
    "    # this is ok for small data but use maps for larger data\n",
    "    if word == \"smile\":\n",
    "        return \":)\"\n",
    "    elif word == \"grin\":\n",
    "        return \":D\"\n",
    "    elif word == \"sad\":\n",
    "        return \":(\"\n",
    "    elif word == \"mad\":\n",
    "        return \">:(\"\n",
    "    else:\n",
    "        return word\n",
    "\n",
    "def emotify(sentence):\n",
    "    words = sentence.split()\n",
    "    result = []\n",
    "\n",
    "    for word in words:\n",
    "        result.append(emoticons_map(word))\n",
    "    return \" \".join(result)\n",
    "\n",
    "print(emotify(\"I am mad\"))\n",
    "print(emotify(\"Make me smile\"))"
   ]
  },
  {
   "cell_type": "code",
   "execution_count": 42,
   "id": "7a115729-09b6-4afb-b860-147a81587d24",
   "metadata": {},
   "outputs": [
    {
     "name": "stdout",
     "output_type": "stream",
     "text": [
      "first: 1\n",
      "middle: [2, 3, 4, 5]\n",
      "last: 6\n"
     ]
    }
   ],
   "source": [
    "lst = [1, 2, 3, 4, 5, 6]\n",
    "\n",
    "first, *middle, last = lst\n",
    "\n",
    "print(\"first:\", first)\n",
    "print(\"middle:\", middle)\n",
    "print(\"last:\", last)"
   ]
  },
  {
   "cell_type": "code",
   "execution_count": null,
   "id": "1c148775-8650-4e9d-9bbf-2e948e516ec4",
   "metadata": {},
   "outputs": [],
   "source": []
  }
 ],
 "metadata": {
  "kernelspec": {
   "display_name": "Python [conda env:base] *",
   "language": "python",
   "name": "conda-base-py"
  },
  "language_info": {
   "codemirror_mode": {
    "name": "ipython",
    "version": 3
   },
   "file_extension": ".py",
   "mimetype": "text/x-python",
   "name": "python",
   "nbconvert_exporter": "python",
   "pygments_lexer": "ipython3",
   "version": "3.13.5"
  }
 },
 "nbformat": 4,
 "nbformat_minor": 5
}

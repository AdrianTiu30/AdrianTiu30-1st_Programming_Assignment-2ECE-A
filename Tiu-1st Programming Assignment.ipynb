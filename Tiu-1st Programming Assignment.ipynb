{
 "cells": [
  {
   "cell_type": "code",
   "execution_count": 48,
   "id": "5bde7a30-1247-4f83-b2b6-0a3a5fe37195",
   "metadata": {},
   "outputs": [
    {
     "name": "stdin",
     "output_type": "stream",
     "text": [
      "Enter a word:  Programming\n"
     ]
    },
    {
     "name": "stdout",
     "output_type": "stream",
     "text": [
      "Your word: Programming\n",
      "Sorted: Paggimmnorr\n"
     ]
    }
   ],
   "source": [
    "def alphabet(word):\n",
    "    return ''.join(sorted(word))\n",
    "\n",
    "word = input(\"Enter a word: \")\n",
    "print(\"Your word:\", word)\n",
    "print(\"Sorted:\", alphabet(word))"
   ]
  },
  {
   "cell_type": "code",
   "execution_count": 49,
   "id": "c7caa53d-a4b4-48e2-ab4b-9899228a5a05",
   "metadata": {},
   "outputs": [
    {
     "name": "stdin",
     "output_type": "stream",
     "text": [
      "Write a sentence with (smile, sad, mad, grin):  Programming makes me sad\n"
     ]
    },
    {
     "name": "stdout",
     "output_type": "stream",
     "text": [
      "Your sentence: Programming makes me sad\n",
      "emotified sentence: Programming makes me :(\n"
     ]
    }
   ],
   "source": [
    "def emoticon_map(sentence):\n",
    "    emoticons = {\n",
    "    \"smile\": \":)\",\n",
    "    \"sad\": \":(\",\n",
    "    \"mad\": \">:(\",\n",
    "    \"grin\": \":D\"\n",
    "    }\n",
    "\n",
    "    words = sentence.split()\n",
    "    result = [emoticons.get(word.lower(), word) for word in words]\n",
    "    return \" \".join(result)\n",
    "\n",
    "sentence = input(\"Write a sentence with (smile, sad, mad, grin): \")\n",
    "print(\"Your sentence:\", sentence)\n",
    "print(\"emotified sentence:\", emoticon_map(sentence))"
   ]
  },
  {
   "cell_type": "code",
   "execution_count": 45,
   "id": "485737e2-f470-4ebf-ab80-3a6b41b892a5",
   "metadata": {},
   "outputs": [
    {
     "name": "stdin",
     "output_type": "stream",
     "text": [
      "Create a list:  1, 2, 3, 4, 5, 6\n"
     ]
    },
    {
     "name": "stdout",
     "output_type": "stream",
     "text": [
      "First: 1\n",
      "Middle: [2, 3, 4, 5]\n",
      "Last: 6\n"
     ]
    }
   ],
   "source": [
    "def unpack_list(lst):\n",
    "    first, *middle, last = lst\n",
    "    return first, middle, last\n",
    "\n",
    "user_input = input(\"Create a list: \")\n",
    "lst = [int(x) for x in user_input.replace(',', ' ').split()]\n",
    "\n",
    "first, middle, last = unpack_list(lst)\n",
    "\n",
    "print(\"First:\", first)\n",
    "print(\"Middle:\", middle)\n",
    "print(\"Last:\", last)"
   ]
  },
  {
   "cell_type": "code",
   "execution_count": null,
   "id": "b73e1f98-5e3e-464f-8dec-1695e43f176f",
   "metadata": {},
   "outputs": [],
   "source": []
  }
 ],
 "metadata": {
  "kernelspec": {
   "display_name": "Python [conda env:base] *",
   "language": "python",
   "name": "conda-base-py"
  },
  "language_info": {
   "codemirror_mode": {
    "name": "ipython",
    "version": 3
   },
   "file_extension": ".py",
   "mimetype": "text/x-python",
   "name": "python",
   "nbconvert_exporter": "python",
   "pygments_lexer": "ipython3",
   "version": "3.13.5"
  }
 },
 "nbformat": 4,
 "nbformat_minor": 5
}
